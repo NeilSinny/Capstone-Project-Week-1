{
 "cells": [
  {
   "cell_type": "markdown",
   "metadata": {},
   "source": [
    "# Capstone Project - Week 1"
   ]
  },
  {
   "cell_type": "markdown",
   "metadata": {},
   "source": [
    "## A description of the problem and a discussion of the background."
   ]
  },
  {
   "cell_type": "markdown",
   "metadata": {},
   "source": [
    "Our Client Marigold Marquis is exploring to open a boutique hotel in NYC.\n",
    "\n",
    "They are targeting a niche market of theater tourism which include theater goers and performers alike, who are looking to stay in and around the area with highest concentration of the theaters. \n",
    "\n",
    "They have hired our Data Science company to do some research and come up with the location based on their requirements.\n",
    "Their main requirement for the location is the one with highest concentration of theaters with least concentration of hotels around.\n",
    "They also would like us to provide them with the study depicting trend on overall NYC market for hotel industry including Occupancy Rate, Avg., Daily Rate and Revenue Per Available Room the three leading hotel performance indicators.\n",
    "\n",
    "The target audience for this project will be the stakeholders from Marigold Marquis who initiated this request.\n",
    "Besides stakeholders the team may also include their Project Managers, Property Developers and Finance Professionals. "
   ]
  },
  {
   "cell_type": "markdown",
   "metadata": {},
   "source": [
    "## A description of the data and how it will be used to solve the problem."
   ]
  },
  {
   "cell_type": "markdown",
   "metadata": {},
   "source": [
    "To perform the above given task, we will leverage Foursquare API to gather the information of all neighborhoods in NYC. Information will include each neighborhood's latitude, longitude and most common venues. The most important features we will be extracting from the API response is the number of theaters and hotels in common venues by any given neighborhood.\n",
    "\n",
    "Once we have performed our Data Requirement, Understanding and Acquisition stage, we will cleanse, explore and process the data points. \n",
    "In other words, we will Analyze the data for neighborhoods with most theaters and least hotels as laid forth by our clients in their primary requirements.\n",
    "\n",
    "We will also harvest the data from various studies and reports done by nyc.gov and nycgo.com on trends and analysis on Hotel Industry in New York City.\n",
    "\n",
    "This data will mostly consist of Hotel Occupancy Rate, Average Daily Rates, Hotel room nights sold year over year,  NYC hotel and room supply, NYC Change in Hotel Room Supply vs. rooms in demand, NYC rooms by Typology, NYC Domestic and International Visitors, NYC vs. US occupancy Rates, NYC Occupancy by boroughs, Existing hotel demand, Travel projections, Active room inventory, Hotels opened since 2010 and in pipeline. \n",
    "\n",
    "The features we will be extracting from all the above data will be of most interest to stakeholders like visualizing Linear regression giving trend of all the above mentioned metrics depicting weather the industry is headed in negative, flat or positive direction.\n",
    "\n",
    "In Week 2 of this project, we will dig deeper into Modeling, Visualizing, Deployment and Customer Feedback, so stay tuned..."
   ]
  },
  {
   "cell_type": "code",
   "execution_count": null,
   "metadata": {},
   "outputs": [],
   "source": []
  }
 ],
 "metadata": {
  "kernelspec": {
   "display_name": "Python 3",
   "language": "python",
   "name": "python3"
  },
  "language_info": {
   "codemirror_mode": {
    "name": "ipython",
    "version": 3
   },
   "file_extension": ".py",
   "mimetype": "text/x-python",
   "name": "python",
   "nbconvert_exporter": "python",
   "pygments_lexer": "ipython3",
   "version": "3.6.6"
  }
 },
 "nbformat": 4,
 "nbformat_minor": 2
}
